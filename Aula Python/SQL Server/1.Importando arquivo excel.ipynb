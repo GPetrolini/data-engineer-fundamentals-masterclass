{
 "cells": [
  {
   "cell_type": "code",
   "execution_count": 8,
   "id": "e2093781",
   "metadata": {},
   "outputs": [],
   "source": [
    "import pandas as pd"
   ]
  },
  {
   "cell_type": "code",
   "execution_count": 9,
   "id": "bbea876c",
   "metadata": {},
   "outputs": [
    {
     "data": {
      "text/html": [
       "<div>\n",
       "<style scoped>\n",
       "    .dataframe tbody tr th:only-of-type {\n",
       "        vertical-align: middle;\n",
       "    }\n",
       "\n",
       "    .dataframe tbody tr th {\n",
       "        vertical-align: top;\n",
       "    }\n",
       "\n",
       "    .dataframe thead th {\n",
       "        text-align: right;\n",
       "    }\n",
       "</style>\n",
       "<table border=\"1\" class=\"dataframe\">\n",
       "  <thead>\n",
       "    <tr style=\"text-align: right;\">\n",
       "      <th></th>\n",
       "      <th>ID</th>\n",
       "      <th>Name</th>\n",
       "      <th>Price</th>\n",
       "      <th>Id_Category</th>\n",
       "    </tr>\n",
       "  </thead>\n",
       "  <tbody>\n",
       "    <tr>\n",
       "      <th>0</th>\n",
       "      <td>0</td>\n",
       "      <td>Sapato vermelho</td>\n",
       "      <td>96</td>\n",
       "      <td>0</td>\n",
       "    </tr>\n",
       "    <tr>\n",
       "      <th>1</th>\n",
       "      <td>1</td>\n",
       "      <td>Bolsa mais que Velha</td>\n",
       "      <td>8000</td>\n",
       "      <td>0</td>\n",
       "    </tr>\n",
       "    <tr>\n",
       "      <th>2</th>\n",
       "      <td>2</td>\n",
       "      <td>Calça</td>\n",
       "      <td>75</td>\n",
       "      <td>0</td>\n",
       "    </tr>\n",
       "    <tr>\n",
       "      <th>3</th>\n",
       "      <td>3</td>\n",
       "      <td>Camisa apertadinha</td>\n",
       "      <td>170</td>\n",
       "      <td>0</td>\n",
       "    </tr>\n",
       "    <tr>\n",
       "      <th>4</th>\n",
       "      <td>4</td>\n",
       "      <td>Vestido Super curto</td>\n",
       "      <td>57</td>\n",
       "      <td>0</td>\n",
       "    </tr>\n",
       "  </tbody>\n",
       "</table>\n",
       "</div>"
      ],
      "text/plain": [
       "   ID                  Name  Price  Id_Category\n",
       "0   0       Sapato vermelho     96            0\n",
       "1   1  Bolsa mais que Velha   8000            0\n",
       "2   2                 Calça     75            0\n",
       "3   3    Camisa apertadinha    170            0\n",
       "4   4   Vestido Super curto     57            0"
      ]
     },
     "execution_count": 9,
     "metadata": {},
     "output_type": "execute_result"
    }
   ],
   "source": [
    "df = pd.read_excel(r\"C:\\Users\\Admin\\Documents\\data-engineer-fundamentals-masterclass\\data-engineer-fundamentals-masterclass\\Origem de dados\\arquivos_csv\\Produto.xlsx\")\n",
    "df.head(5)"
   ]
  },
  {
   "cell_type": "code",
   "execution_count": null,
   "id": "0f3fb079",
   "metadata": {},
   "outputs": [],
   "source": [
    "# df_calca = df.loc[df['coluna'] == 'Calça']  localizar 1 item especifico de uma coluna\n",
    "df_calca = df.loc[df['Name'] == 'Vestido Super curto']"
   ]
  },
  {
   "cell_type": "code",
   "execution_count": null,
   "id": "88843830",
   "metadata": {},
   "outputs": [],
   "source": [
    "df_calca"
   ]
  },
  {
   "cell_type": "code",
   "execution_count": null,
   "id": "f253ce2a",
   "metadata": {},
   "outputs": [],
   "source": [
    "itens = ['Calça','TV', 'Perfume','Fogão']\n",
    "df_itens = df.loc[df['Name'].isin(itens)]\n"
   ]
  },
  {
   "cell_type": "code",
   "execution_count": null,
   "id": "f8469aa6",
   "metadata": {},
   "outputs": [],
   "source": [
    "df_itens"
   ]
  },
  {
   "cell_type": "code",
   "execution_count": null,
   "id": "8cfb5acb",
   "metadata": {},
   "outputs": [],
   "source": [
    "df_itens2 = df.loc[df['Name'].isin(['Calça','TV', 'Sapato vermelho','Fogão'])]\n",
    "df_itens2"
   ]
  },
  {
   "cell_type": "code",
   "execution_count": null,
   "id": "d48f91cd",
   "metadata": {},
   "outputs": [],
   "source": [
    "#Localizar valor > que o que escolher\n",
    "dfMais1000 = df.loc[df['Price'] > 1000] "
   ]
  },
  {
   "cell_type": "code",
   "execution_count": null,
   "id": "1175eebd",
   "metadata": {},
   "outputs": [],
   "source": [
    "dfMais1000.head()"
   ]
  },
  {
   "cell_type": "code",
   "execution_count": null,
   "id": "1ac1d866",
   "metadata": {},
   "outputs": [],
   "source": [
    "dfmenos1000 = df.loc[df['Price'] < 1000] \n",
    "dfmenos1000.head()\n"
   ]
  },
  {
   "cell_type": "code",
   "execution_count": null,
   "id": "0e15eb38",
   "metadata": {},
   "outputs": [],
   "source": [
    "df200a1000 = df.loc[(df['Price'] > 200) & (df['Price'] <= 2000)]\n",
    "df200a1000\n"
   ]
  }
 ],
 "metadata": {
  "kernelspec": {
   "display_name": "study-data-engineer",
   "language": "python",
   "name": "python3"
  },
  "language_info": {
   "codemirror_mode": {
    "name": "ipython",
    "version": 3
   },
   "file_extension": ".py",
   "mimetype": "text/x-python",
   "name": "python",
   "nbconvert_exporter": "python",
   "pygments_lexer": "ipython3",
   "version": "3.13.5"
  }
 },
 "nbformat": 4,
 "nbformat_minor": 5
}
