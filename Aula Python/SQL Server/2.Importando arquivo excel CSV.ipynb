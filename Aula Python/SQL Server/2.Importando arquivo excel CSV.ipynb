{
 "cells": [
  {
   "cell_type": "code",
   "execution_count": null,
   "id": "e2093781",
   "metadata": {},
   "outputs": [],
   "source": [
    "import pandas as pd"
   ]
  },
  {
   "cell_type": "code",
   "execution_count": null,
   "id": "bbea876c",
   "metadata": {},
   "outputs": [],
   "source": [
    "df = pd.read_csv(r\"C:\\Users\\Admin\\Documents\\data-engineer-fundamentals-masterclass\\data-engineer-fundamentals-masterclass\\Origem de dados\\arquivos_excel\\Clientes.csv\",delimiter=',')\n",
    "df.head(5)"
   ]
  },
  {
   "cell_type": "code",
   "execution_count": null,
   "id": "d2749b45",
   "metadata": {},
   "outputs": [],
   "source": [
    "# Filtrar 1 item especifico de uma coluna\n",
    "estado = df.loc[df['state'] == 'Santa Catarina']"
   ]
  },
  {
   "cell_type": "code",
   "execution_count": null,
   "id": "72770c19",
   "metadata": {},
   "outputs": [],
   "source": [
    "estado"
   ]
  },
  {
   "cell_type": "code",
   "execution_count": null,
   "id": "dccf3e4f",
   "metadata": {},
   "outputs": [],
   "source": [
    "df"
   ]
  },
  {
   "cell_type": "code",
   "execution_count": null,
   "id": "fdc23acd",
   "metadata": {},
   "outputs": [],
   "source": [
    "# Escolher estados específicos\n",
    "estados = ['Rio de Janeiro','São Paulo',]\n",
    "Df_estados = df.loc[df['state'].isin(estados)]\n",
    "Df_estados"
   ]
  },
  {
   "cell_type": "code",
   "execution_count": null,
   "id": "b60e3318",
   "metadata": {},
   "outputs": [],
   "source": [
    "df_estados2 = df.loc[df['state'].isin(['Rio de Janeiro','Santa Catarina','Sergipe'])]\n",
    "df_estados2"
   ]
  },
  {
   "cell_type": "code",
   "execution_count": null,
   "id": "ba5f1563",
   "metadata": {},
   "outputs": [],
   "source": [
    "Df_estados2 = df.loc[df['state'].isin(['Rio de Janeiro','Ceará', 'Rondônia','Bahia','Ceará', 'Rondônia','Bahia','Ceará',    \n",
    "                                       'Rondônia','Bahia','Ceará', 'Rondônia','Bahia','Ceará', 'Rondônia','Bahia','Ceará',  \n",
    "                                       'Rondônia','Bahia','Ceará', 'Rondônia','Bahia','Ceará', 'Rondônia','Bahia','Ceará',  \n",
    "                                       'Rondônia','Bahia'])]\n",
    "Df_estados2"
   ]
  },
  {
   "cell_type": "markdown",
   "id": "c198c8db",
   "metadata": {},
   "source": [
    "# Tratando Nulos\n"
   ]
  },
  {
   "cell_type": "code",
   "execution_count": null,
   "id": "5d6b173e",
   "metadata": {},
   "outputs": [],
   "source": [
    "import pandas as pd"
   ]
  },
  {
   "cell_type": "code",
   "execution_count": null,
   "id": "449adfb8",
   "metadata": {},
   "outputs": [],
   "source": [
    "df = pd.read_csv(r\"C:\\Users\\Admin\\Documents\\data-engineer-fundamentals-masterclass\\data-engineer-fundamentals-masterclass\\Origem de dados\\arquivos_excel\\Clientes.csv\",delimiter=',')\n",
    "df.head(5)"
   ]
  },
  {
   "cell_type": "code",
   "execution_count": null,
   "id": "b8ccdad3",
   "metadata": {},
   "outputs": [],
   "source": [
    "# Substituir valores nulos\n",
    "df['street'] = df ['street'].fillna('Não registrado')\n",
    "df"
   ]
  },
  {
   "cell_type": "code",
   "execution_count": null,
   "id": "9bf94031",
   "metadata": {},
   "outputs": [],
   "source": [
    "#Substituir valores nulos\n",
    "df['street'] =           df['street'].fillna('Nao Cadasatrado')\n",
    "df['email'] =            df['email'].fillna('Email Não Cadastrado')\n",
    "df['number'] =           df['number'].fillna('Sem Numero')\n",
    "df['additionals'] =      df['additionals'].fillna('Sem Info')\n"
   ]
  },
  {
   "cell_type": "markdown",
   "id": "049cf100",
   "metadata": {},
   "source": [
    "#### Metodo Replace"
   ]
  },
  {
   "cell_type": "code",
   "execution_count": null,
   "id": "71efc349",
   "metadata": {},
   "outputs": [],
   "source": [
    "# Substituindo os nomes dos estados no DataFrame\n",
    "\"\"\"\n",
    "df['Coluna'] = df['coluna'].replace(valor_original, valor_substituto)\n",
    "\"\"\""
   ]
  },
  {
   "cell_type": "code",
   "execution_count": null,
   "id": "8138ee40",
   "metadata": {},
   "outputs": [],
   "source": [
    "# resetar DF\n",
    "df = pd.read_csv(r\"C:\\Users\\Admin\\Documents\\data-engineer-fundamentals-masterclass\\data-engineer-fundamentals-masterclass\\Origem de dados\\arquivos_excel\\Clientes.csv\",delimiter=',')\n",
    "df.head(5)"
   ]
  },
  {
   "cell_type": "code",
   "execution_count": null,
   "id": "22740983",
   "metadata": {},
   "outputs": [],
   "source": [
    "df['state'] = df['state'].replace('São Paulo', 'SP')\n",
    "df['state'] = df['state'].replace('Acre', 'AC')\n",
    "df['state'] = df['state'].replace('Distrito Federal', 'DF')\n"
   ]
  },
  {
   "cell_type": "code",
   "execution_count": null,
   "id": "6965d04b",
   "metadata": {},
   "outputs": [],
   "source": [
    "df.head(20)"
   ]
  },
  {
   "cell_type": "code",
   "execution_count": null,
   "id": "cd31429f",
   "metadata": {},
   "outputs": [],
   "source": [
    "# resetar DF\n",
    "df = pd.read_csv(r\"C:\\Users\\Admin\\Documents\\data-engineer-fundamentals-masterclass\\data-engineer-fundamentals-masterclass\\Origem de dados\\arquivos_excel\\Clientes.csv\",delimiter=',')\n",
    "df.head(5)"
   ]
  },
  {
   "cell_type": "code",
   "execution_count": null,
   "id": "ecb96a1a",
   "metadata": {},
   "outputs": [],
   "source": [
    "# Fazendo a substituição de um valor específico\n",
    "valor_original = 'São Paulo'\n",
    "valor_substituto = 'SP'\n",
    "df['state'] = df['state'].replace(valor_original, valor_substituto)\n"
   ]
  },
  {
   "cell_type": "code",
   "execution_count": null,
   "id": "7c614eee",
   "metadata": {},
   "outputs": [],
   "source": [
    "df.head(30)"
   ]
  },
  {
   "cell_type": "code",
   "execution_count": null,
   "id": "0b3cd1f3",
   "metadata": {},
   "outputs": [],
   "source": [
    "import pandas as pd\n",
    "# Resetar DF\n",
    "df = pd.read_csv(r\"C:\\Users\\Admin\\Documents\\data-engineer-fundamentals-masterclass\\data-engineer-fundamentals-masterclass\\Origem de dados\\arquivos_excel\\Clientes.csv\",delimiter=',')\n",
    "df.head()"
   ]
  },
  {
   "cell_type": "code",
   "execution_count": null,
   "id": "9ef521e8",
   "metadata": {},
   "outputs": [],
   "source": [
    "# Mapeando os nomes dos estados para substituição\n",
    "# Obs itens criados entre chves {} significa dicionario\n",
    "mapeamento = {'Maranhão': 'Maranhao', 'Piauí': 'Piaui', 'Goiás': 'Goias','São Paulo':'SPteste'}\n",
    "\n",
    "# Substituindo os nomes dos estados no DataFrame\n",
    "df['state'] = df['state'].replace(mapeamento)\n"
   ]
  },
  {
   "cell_type": "code",
   "execution_count": null,
   "id": "0cc5109c",
   "metadata": {},
   "outputs": [],
   "source": [
    "df.head(30)"
   ]
  }
 ],
 "metadata": {
  "kernelspec": {
   "display_name": "study-data-engineer",
   "language": "python",
   "name": "python3"
  },
  "language_info": {
   "codemirror_mode": {
    "name": "ipython",
    "version": 3
   },
   "file_extension": ".py",
   "mimetype": "text/x-python",
   "name": "python",
   "nbconvert_exporter": "python",
   "pygments_lexer": "ipython3",
   "version": "3.13.5"
  }
 },
 "nbformat": 4,
 "nbformat_minor": 5
}
