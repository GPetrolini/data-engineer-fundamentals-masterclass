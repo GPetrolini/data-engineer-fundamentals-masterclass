{
 "cells": [
  {
   "cell_type": "markdown",
   "id": "dd6803ee",
   "metadata": {},
   "source": [
    "texto abaixo serve para armazenar váriavel"
   ]
  },
  {
   "cell_type": "code",
   "execution_count": null,
   "id": "2acdcb6b",
   "metadata": {},
   "outputs": [],
   "source": [
    "nome = 'seu nome'\n",
    "nome2 = \"seunome\"\n"
   ]
  }
 ],
 "metadata": {
  "language_info": {
   "name": "python"
  }
 },
 "nbformat": 4,
 "nbformat_minor": 5
}
